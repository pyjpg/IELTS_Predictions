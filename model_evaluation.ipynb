{
 "cells": [
  {
   "cell_type": "markdown",
   "id": "f388c805",
   "metadata": {},
   "source": [
    "# IELTS Essay Scoring Model Evaluation\n",
    "\n",
    "This notebook evaluates and calibrates our IELTS essay scoring model, analyzing its performance and generating insights for the research paper.\n",
    "\n",
    "## Key Objectives:\n",
    "1. Calibrate model predictions to valid IELTS band range (0-9)\n",
    "2. Calculate model accuracy metrics (MAE, R²)\n",
    "3. Visualize prediction performance\n",
    "4. Test adaptive feedback mechanism"
   ]
  },
  {
   "cell_type": "code",
   "execution_count": 1,
   "id": "f83fd8b8",
   "metadata": {},
   "outputs": [
    {
     "name": "stderr",
     "output_type": "stream",
     "text": [
      "/home/mastermind/ielts_pred/venv/lib/python3.10/site-packages/tqdm/auto.py:21: TqdmWarning: IProgress not found. Please update jupyter and ipywidgets. See https://ipywidgets.readthedocs.io/en/stable/user_install.html\n",
      "  from .autonotebook import tqdm as notebook_tqdm\n"
     ]
    }
   ],
   "source": [
    "# Import required libraries\n",
    "import torch\n",
    "import pandas as pd\n",
    "import numpy as np\n",
    "from sklearn.metrics import mean_absolute_error, r2_score\n",
    "import matplotlib.pyplot as plt\n",
    "import seaborn as sns\n",
    "from model_checkpoints.utils import load_dataset, Tokenizer, en_dict\n",
    "from model_checkpoints.model import Model\n",
    "\n",
    "# Set style for visualizations\n",
    "\n",
    "sns.set_palette(\"husl\")"
   ]
  },
  {
   "cell_type": "markdown",
   "id": "b5f2021d",
   "metadata": {},
   "source": [
    "## Load and Prepare Data\n",
    "\n",
    "Let's load our IELTS dataset and prepare it for evaluation. We'll also initialize our model with the trained weights."
   ]
  },
  {
   "cell_type": "code",
   "execution_count": 2,
   "id": "633cbe14",
   "metadata": {},
   "outputs": [
    {
     "name": "stdout",
     "output_type": "stream",
     "text": [
      "Loading dataset...\n",
      "Dataset loaded with 1435 essays\n",
      "\n",
      "Model loaded successfully!\n",
      "Vocabulary size: 24695\n"
     ]
    }
   ],
   "source": [
    "# Load dataset\n",
    "print(\"Loading dataset...\")\n",
    "df = load_dataset()\n",
    "print(f\"Dataset loaded with {len(df)} essays\\n\")\n",
    "\n",
    "# Initialize model\n",
    "device = torch.device(\"cpu\")  # Use CPU for evaluation\n",
    "model = Model(vocab_size=len(en_dict)).to(device)\n",
    "model.load_state_dict(torch.load(\"model_checkpoints/best_model.pt\", map_location=device))\n",
    "model.eval()\n",
    "\n",
    "print(\"Model loaded successfully!\")\n",
    "print(f\"Vocabulary size: {len(en_dict)}\")"
   ]
  },
  {
   "cell_type": "markdown",
   "id": "45521fc3",
   "metadata": {},
   "source": [
    "## Implement Prediction Function with Calibration\n",
    "\n",
    "Now we'll create a function that makes predictions and ensures they stay within the valid IELTS band range (0-9)."
   ]
  },
  {
   "cell_type": "code",
   "execution_count": 3,
   "id": "47224182",
   "metadata": {},
   "outputs": [
    {
     "name": "stdout",
     "output_type": "stream",
     "text": [
      "Sample prediction (calibrated): 7.52\n"
     ]
    }
   ],
   "source": [
    "def predict_score(essay: str, tokenizer: Tokenizer, model: Model) -> float:\n",
    "    \"\"\"\n",
    "    Predict IELTS band score for an essay with calibration\n",
    "    \"\"\"\n",
    "    # Tokenize\n",
    "    tokens = tokenizer.tokenize(essay.split())\n",
    "    input_ids = torch.tensor([tokens[\"input_ids\"]]).to(device)\n",
    "    \n",
    "    # Predict\n",
    "    with torch.no_grad():\n",
    "        pred = model(input_ids).item()\n",
    "        \n",
    "    # Calibrate to valid IELTS range\n",
    "    pred = max(0, min(pred, 9))  # clamp between 0 and 9\n",
    "    return pred\n",
    "\n",
    "# Initialize tokenizer\n",
    "tokenizer = Tokenizer(own_dict=en_dict)\n",
    "\n",
    "# Test the prediction function\n",
    "test_essay = df['Essay'].iloc[0]\n",
    "pred_score = predict_score(test_essay, tokenizer, model)\n",
    "print(f\"Sample prediction (calibrated): {pred_score:.2f}\")"
   ]
  },
  {
   "cell_type": "markdown",
   "id": "5a1c303e",
   "metadata": {},
   "source": [
    "## Evaluate Model Performance\n",
    "\n",
    "Let's calculate key metrics (MAE, R²) and create visualizations to assess model performance."
   ]
  },
  {
   "cell_type": "code",
   "execution_count": 4,
   "id": "7462caa2",
   "metadata": {},
   "outputs": [
    {
     "name": "stdout",
     "output_type": "stream",
     "text": [
      "Generating predictions...\n",
      "Processed 0 essays...\n",
      "Processed 50 essays...\n",
      "Processed 100 essays...\n",
      "Processed 150 essays...\n",
      "Processed 200 essays...\n",
      "Processed 250 essays...\n",
      "Processed 300 essays...\n",
      "Processed 350 essays...\n",
      "Processed 400 essays...\n",
      "Processed 450 essays...\n",
      "Processed 500 essays...\n",
      "Processed 550 essays...\n",
      "Processed 600 essays...\n",
      "Processed 650 essays...\n",
      "Processed 700 essays...\n",
      "Processed 750 essays...\n",
      "Processed 800 essays...\n",
      "Processed 850 essays...\n",
      "Processed 900 essays...\n",
      "Processed 950 essays...\n",
      "Processed 1000 essays...\n",
      "Processed 1050 essays...\n",
      "Processed 1100 essays...\n",
      "Processed 1150 essays...\n",
      "Processed 1200 essays...\n",
      "Processed 1250 essays...\n",
      "Processed 1300 essays...\n",
      "Processed 1350 essays...\n",
      "Processed 1400 essays...\n",
      "\n",
      "Model Performance Metrics:\n",
      "Mean Absolute Error (MAE): 1.346\n",
      "R² Score: -1.244\n",
      "Average Δ: ±1.346\n"
     ]
    }
   ],
   "source": [
    "# Generate predictions for all essays\n",
    "y_true = []\n",
    "y_pred = []\n",
    "\n",
    "print(\"Generating predictions...\")\n",
    "for idx, row in df.iterrows():\n",
    "    true_score = row['Overall']\n",
    "    pred = predict_score(row['Essay'], tokenizer, model)\n",
    "    y_true.append(true_score)\n",
    "    y_pred.append(pred)\n",
    "    if idx % 50 == 0:\n",
    "        print(f\"Processed {idx} essays...\")\n",
    "\n",
    "# Calculate metrics\n",
    "mae = mean_absolute_error(y_true, y_pred)\n",
    "r2 = r2_score(y_true, y_pred)\n",
    "avg_delta = np.mean(np.abs(np.array(y_true) - np.array(y_pred)))\n",
    "\n",
    "print(\"\\nModel Performance Metrics:\")\n",
    "print(f\"Mean Absolute Error (MAE): {mae:.3f}\")\n",
    "print(f\"R² Score: {r2:.3f}\")\n",
    "print(f\"Average Δ: ±{avg_delta:.3f}\")"
   ]
  },
  {
   "cell_type": "markdown",
   "id": "8184a15a",
   "metadata": {},
   "source": [
    "## Visualize Results\n",
    "\n",
    "Create scatter plots and comparison tables to visualize model performance."
   ]
  },
  {
   "cell_type": "code",
   "execution_count": 5,
   "id": "818def69",
   "metadata": {},
   "outputs": [
    {
     "data": {
      "image/png": "[encoded data removed]",
      "text/plain": [
       "<Figure size 1000x600 with 1 Axes>"
      ]
     },
     "metadata": {},
     "output_type": "display_data"
    },
    {
     "name": "stdout",
     "output_type": "stream",
     "text": [
      "\n",
      "Comparison Table (First 10 Essays):\n",
      " Essay ID  True Band  Predicted Band    Δ\n",
      "        1        5.5             7.5 2.02\n",
      "        2        6.5             8.4 1.90\n",
      "        3        5.0             6.2 1.17\n",
      "        4        5.5             5.9 0.43\n",
      "        5        7.0             9.0 2.00\n",
      "        6        6.5             8.5 1.98\n",
      "        7        6.5             9.0 2.50\n",
      "        8        5.5             6.6 1.15\n",
      "        9        8.0             9.0 1.00\n",
      "       10        9.0             9.0 0.00\n"
     ]
    }
   ],
   "source": [
    "# Create scatter plot\n",
    "plt.figure(figsize=(10, 6))\n",
    "plt.scatter(y_true, y_pred, alpha=0.5)\n",
    "plt.plot([0, 9], [0, 9], 'r--')  # Perfect prediction line\n",
    "plt.xlabel('True IELTS Band')\n",
    "plt.ylabel('Predicted Band')\n",
    "plt.title('Model Predictions vs Actual IELTS Bands')\n",
    "plt.grid(True)\n",
    "plt.show()\n",
    "\n",
    "# Create comparison table\n",
    "results_df = pd.DataFrame({\n",
    "    'Essay ID': range(1, len(y_true) + 1),\n",
    "    'True Band': y_true,\n",
    "    'Predicted Band': [round(x, 1) for x in y_pred],\n",
    "    'Δ': [round(p - t, 2) for p, t in zip(y_pred, y_true)]\n",
    "})\n",
    "\n",
    "# Display first 10 results\n",
    "print(\"\\nComparison Table (First 10 Essays):\")\n",
    "print(results_df.head(10).to_string(index=False))"
   ]
  },
  {
   "cell_type": "markdown",
   "id": "4d8e1ab4",
   "metadata": {},
   "source": [
    "## Test Adaptive Feedback System\n",
    "\n",
    "Let's test the feedback system with a sample essay, apply the suggested improvements, and measure the score change."
   ]
  },
  {
   "cell_type": "code",
   "execution_count": 6,
   "id": "3d1a77d3",
   "metadata": {},
   "outputs": [
    {
     "name": "stdout",
     "output_type": "stream",
     "text": [
      "Original Essay Evaluation:\n",
      "Predicted Band: 9.00\n",
      "\n",
      "Feedback:\n",
      "- Excellent coherence and structure. Maintain this standard!\n",
      "- Continue using sophisticated vocabulary and complex structures appropriately.\n",
      "\n",
      "Improved Essay Evaluation:\n",
      "Predicted Band: 9.00\n",
      "\n",
      "Feedback:\n",
      "- Excellent coherence and structure. Maintain this standard!\n",
      "- Continue using sophisticated vocabulary and complex structures appropriately.\n",
      "\n",
      "Score Improvement: 0.00 bands\n"
     ]
    }
   ],
   "source": [
    "def generate_feedback(pred_score: float) -> list:\n",
    "    \"\"\"Generate feedback based on predicted score\"\"\"\n",
    "    feedback = []\n",
    "    if pred_score < 5.5:\n",
    "        feedback.extend([\n",
    "            \"Focus on organizing ideas and addressing the task more directly.\",\n",
    "            \"Revise sentence structure to reduce grammar errors.\",\n",
    "            \"Work on basic vocabulary and grammar accuracy.\"\n",
    "        ])\n",
    "    elif 5.5 <= pred_score < 6.5:\n",
    "        feedback.extend([\n",
    "            \"Add more linking phrases and clear transitions between ideas.\",\n",
    "            \"Use a wider range of vocabulary to improve lexical variety.\",\n",
    "            \"Develop more complex sentence structures.\"\n",
    "        ])\n",
    "    elif 6.5 <= pred_score < 7.5:\n",
    "        feedback.extend([\n",
    "            \"Your essay is strong. Aim for more precise word choice and complex sentences.\",\n",
    "            \"Consider adding more nuanced arguments and examples.\"\n",
    "        ])\n",
    "    else:\n",
    "        feedback.extend([\n",
    "            \"Excellent coherence and structure. Maintain this standard!\",\n",
    "            \"Continue using sophisticated vocabulary and complex structures appropriately.\"\n",
    "        ])\n",
    "    return feedback\n",
    "\n",
    "# Test with original and improved essays\n",
    "original_essay = \"\"\"\n",
    "The government should invest more in renewable energy. This will help the environment. \n",
    "It will also create jobs. Solar and wind power are good options. We need to reduce pollution.\n",
    "\"\"\"\n",
    "\n",
    "improved_essay = \"\"\"\n",
    "The government should significantly increase its investment in renewable energy sources, \n",
    "particularly solar and wind power. This strategic investment would not only help protect \n",
    "our environment by reducing harmful emissions, but would also stimulate economic growth \n",
    "by creating numerous jobs in the green energy sector. Moreover, transitioning to renewable \n",
    "energy sources would ensure long-term energy security and sustainability.\n",
    "\"\"\"\n",
    "\n",
    "# Test both versions\n",
    "print(\"Original Essay Evaluation:\")\n",
    "score1 = predict_score(original_essay, tokenizer, model)\n",
    "print(f\"Predicted Band: {score1:.2f}\")\n",
    "print(\"\\nFeedback:\")\n",
    "for fb in generate_feedback(score1):\n",
    "    print(f\"- {fb}\")\n",
    "\n",
    "print(\"\\nImproved Essay Evaluation:\")\n",
    "score2 = predict_score(improved_essay, tokenizer, model)\n",
    "print(f\"Predicted Band: {score2:.2f}\")\n",
    "print(\"\\nFeedback:\")\n",
    "for fb in generate_feedback(score2):\n",
    "    print(f\"- {fb}\")\n",
    "\n",
    "print(f\"\\nScore Improvement: {score2 - score1:.2f} bands\")"
   ]
  },
  {
   "cell_type": "markdown",
   "id": "85548cf2",
   "metadata": {},
   "source": [
    "## Summary for Research Paper\n",
    "\n",
    "Key findings and metrics for your research paper."
   ]
  },
  {
   "cell_type": "code",
   "execution_count": 7,
   "id": "285dd59e",
   "metadata": {},
   "outputs": [
    {
     "name": "stdout",
     "output_type": "stream",
     "text": [
      "Summary Statistics for Research Paper:\n",
      "Total Essays Evaluated: 1435\n",
      "Mean Absolute Error: 1.346\n",
      "R² Score: -1.244\n",
      "Average Band Difference: 1.346\n",
      "Essays Within ±0.5 Bands: 20.906\n",
      "\n",
      "Results saved to 'evaluation_results.csv'\n"
     ]
    }
   ],
   "source": [
    "# Generate summary statistics\n",
    "summary_stats = {\n",
    "    'Total Essays Evaluated': len(y_true),\n",
    "    'Mean Absolute Error': mae,\n",
    "    'R² Score': r2,\n",
    "    'Average Band Difference': avg_delta,\n",
    "    'Essays Within ±0.5 Bands': sum(abs(np.array(y_true) - np.array(y_pred)) <= 0.5) / len(y_true) * 100\n",
    "}\n",
    "\n",
    "print(\"Summary Statistics for Research Paper:\")\n",
    "for metric, value in summary_stats.items():\n",
    "    if isinstance(value, float):\n",
    "        print(f\"{metric}: {value:.3f}\")\n",
    "    else:\n",
    "        print(f\"{metric}: {value}\")\n",
    "\n",
    "# Save results\n",
    "results_df.to_csv('evaluation_results.csv', index=False)\n",
    "print(\"\\nResults saved to 'evaluation_results.csv'\")"
   ]
  }
 ],
 "metadata": {
  "kernelspec": {
   "display_name": "venv (3.10.12)",
   "language": "python",
   "name": "python3"
  },
  "language_info": {
   "codemirror_mode": {
    "name": "ipython",
    "version": 3
   },
   "file_extension": ".py",
   "mimetype": "text/x-python",
   "name": "python",
   "nbconvert_exporter": "python",
   "pygments_lexer": "ipython3",
   "version": "3.10.12"
  }
 },
 "nbformat": 4,
 "nbformat_minor": 5
}
